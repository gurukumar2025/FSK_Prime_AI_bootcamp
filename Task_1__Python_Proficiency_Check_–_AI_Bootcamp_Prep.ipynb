{
  "nbformat": 4,
  "nbformat_minor": 0,
  "metadata": {
    "colab": {
      "provenance": []
    },
    "kernelspec": {
      "name": "python3",
      "display_name": "Python 3"
    },
    "language_info": {
      "name": "python"
    }
  },
  "cells": [
    {
      "cell_type": "markdown",
      "source": [
        "# Task 1: Python Proficiency Check – AI Bootcamp Prep"
      ],
      "metadata": {
        "id": "L982FdumDCVn"
      }
    },
    {
      "cell_type": "markdown",
      "source": [
        "## Section 1: Basics & Control Flow"
      ],
      "metadata": {
        "id": "gk9AwRFXDO6n"
      }
    },
    {
      "cell_type": "markdown",
      "source": [
        "### **Task 1**: FizzBuzz with a Twist\n",
        "\n",
        "*Instruction*: Write a function that prints numbers from 1 to 50. For multiples of 3, print \"AI\", for multiples of 5 print \"Bootcamp\", and for multiples of both 3 and 5 print \"AI Bootcamp\"."
      ],
      "metadata": {
        "id": "tG2LLFb4DSrf"
      }
    },
    {
      "cell_type": "code",
      "source": [
        "def fizzbuzz_ai_bootcamp():\n",
        "    for i in range(1, 51):\n",
        "        if i % 3 == 0 and i % 5 == 0:\n",
        "            print(\"AI Bootcamp\")\n",
        "        elif i % 3 == 0:\n",
        "            print(\"AI\")\n",
        "        elif i % 5 == 0:\n",
        "            print(\"Bootcamp\")\n",
        "        else:\n",
        "            print(i)\n",
        "\n",
        "# To see the output, run the code.\n",
        "fizzbuzz_ai_bootcamp()"
      ],
      "metadata": {
        "id": "G6YtbgenDSWH",
        "colab": {
          "base_uri": "https://localhost:8080/"
        },
        "outputId": "fdbb8311-52ee-4a5b-a4e6-9f1fea0c348c"
      },
      "execution_count": null,
      "outputs": [
        {
          "output_type": "stream",
          "name": "stdout",
          "text": [
            "1\n",
            "2\n",
            "AI\n",
            "4\n",
            "Bootcamp\n",
            "AI\n",
            "7\n",
            "8\n",
            "AI\n",
            "Bootcamp\n",
            "11\n",
            "AI\n",
            "13\n",
            "14\n",
            "AI Bootcamp\n",
            "16\n",
            "17\n",
            "AI\n",
            "19\n",
            "Bootcamp\n",
            "AI\n",
            "22\n",
            "23\n",
            "AI\n",
            "Bootcamp\n",
            "26\n",
            "AI\n",
            "28\n",
            "29\n",
            "AI Bootcamp\n",
            "31\n",
            "32\n",
            "AI\n",
            "34\n",
            "Bootcamp\n",
            "AI\n",
            "37\n",
            "38\n",
            "AI\n",
            "Bootcamp\n",
            "41\n",
            "AI\n",
            "43\n",
            "44\n",
            "AI Bootcamp\n",
            "46\n",
            "47\n",
            "AI\n",
            "49\n",
            "Bootcamp\n"
          ]
        }
      ]
    },
    {
      "cell_type": "markdown",
      "source": [
        "### **Task 2**: List Comprehensions and Functions\n",
        "\n",
        "*Instruction*: Given a list of numbers, square only the even numbers using a list comprehension and define a function that returns the result."
      ],
      "metadata": {
        "id": "8YMADBQmDhHU"
      }
    },
    {
      "cell_type": "code",
      "execution_count": null,
      "metadata": {
        "colab": {
          "base_uri": "https://localhost:8080/"
        },
        "id": "sPfpD1yF4LTO",
        "outputId": "3de14e89-b977-48e2-ee0b-67833a5d0171"
      },
      "outputs": [
        {
          "output_type": "stream",
          "name": "stdout",
          "text": [
            "[4, 16, 36]\n"
          ]
        }
      ],
      "source": [
        "def square_even_numbers(numbers):\n",
        "  \"\"\"Squares only the even numbers in a list.\n",
        "\n",
        "  Args:\n",
        "    numbers: A list of numbers.\n",
        "\n",
        "  Returns:\n",
        "    A list with the even numbers squared.\n",
        "  \"\"\"\n",
        "  return [num**2 for num in numbers if num % 2 == 0]\n",
        "\n",
        "# Example usage\n",
        "numbers = [1, 2, 3, 4, 5, 6]\n",
        "squared_evens = square_even_numbers(numbers)\n",
        "# To see the output, run the code.\n",
        "print(squared_evens)"
      ]
    },
    {
      "cell_type": "markdown",
      "source": [
        "## Section 2: Data Structures & File I/O"
      ],
      "metadata": {
        "id": "03CKwCBtDzRL"
      }
    },
    {
      "cell_type": "markdown",
      "source": [
        "### **Task 3**: Word Frequency from a File\n",
        "\n",
        "*Instruction*: Read the provided text file (Sample_For_Task1.txt) and return the 5 most common words (ignoring punctuation and case)."
      ],
      "metadata": {
        "id": "oh1W_9m5DuzF"
      }
    },
    {
      "cell_type": "code",
      "source": [
        "import re\n",
        "from collections import Counter\n",
        "\n",
        "def get_most_common_words(file_path, num_words=5):\n",
        "  \"\"\"Reads a text file and returns the most common words.\n",
        "\n",
        "  Args:\n",
        "    file_path: The path to the text file.\n",
        "    num_words: The number of most common words to return.\n",
        "\n",
        "  Returns:\n",
        "    A list of tuples, where each tuple contains a word and its frequency.\n",
        "  \"\"\"\n",
        "  with open(file_path, 'r') as file:\n",
        "    text = file.read().lower()  # Read and convert text to lowercase\n",
        "    words = re.findall(r'\\b\\w+\\b', text)  # Extract words using regex\n",
        "    word_counts = Counter(words)  # Count word frequencies\n",
        "    most_common = word_counts.most_common(num_words)  # Get most common words\n",
        "    return most_common\n",
        "\n",
        "# Example usage:\n",
        "file_path = '/content/Sample_For_Task1.txt'  # Replace with the actual file path\n",
        "most_common_words = get_most_common_words(file_path)\n",
        "\n",
        "# To see the output, run the code.\n",
        "print(most_common_words)\n"
      ],
      "metadata": {
        "id": "SQTsWR6GDn6e",
        "colab": {
          "base_uri": "https://localhost:8080/"
        },
        "outputId": "b565d49d-379f-460f-d80b-e67bf541dc18"
      },
      "execution_count": 2,
      "outputs": [
        {
          "output_type": "stream",
          "name": "stdout",
          "text": [
            "[('the', 5), ('quick', 2), ('fox', 2), ('dog', 2), ('and', 2)]\n"
          ]
        }
      ]
    },
    {
      "cell_type": "markdown",
      "source": [
        "## Section 3: NumPy & pandas"
      ],
      "metadata": {
        "id": "mVV1BgZvEE3a"
      }
    },
    {
      "cell_type": "markdown",
      "source": [
        "### **Task 4**: NumPy Matrix Magic\n",
        "\n",
        "*Instruction*: Create a 5x5 matrix with random integers from 1 to 10. Replace all elements greater than 5 with 0."
      ],
      "metadata": {
        "id": "opUK7Z7LEIr4"
      }
    },
    {
      "cell_type": "code",
      "source": [
        "import numpy as np\n",
        "\n",
        "# Create a 5x5 matrix with random integers from 1 to 10\n",
        "matrix = np.random.randint(1, 11, size=(5, 5))\n",
        "\n",
        "# Replace elements greater than 5 with 0\n",
        "matrix[matrix > 5] = 0\n",
        "\n",
        "# To see the output, run the code.\n",
        "print(matrix)"
      ],
      "metadata": {
        "id": "UW3FMdjQEEl3",
        "colab": {
          "base_uri": "https://localhost:8080/"
        },
        "outputId": "404ca30e-8093-478c-dc0b-31a2c23279b9"
      },
      "execution_count": null,
      "outputs": [
        {
          "output_type": "stream",
          "name": "stdout",
          "text": [
            "[[5 5 2 0 0]\n",
            " [2 0 0 0 2]\n",
            " [3 3 1 0 5]\n",
            " [2 3 0 0 0]\n",
            " [0 4 5 0 0]]\n"
          ]
        }
      ]
    },
    {
      "cell_type": "markdown",
      "source": [
        "### **Task 5**: pandas DataFrame Manipulation\n",
        "\n",
        "*Instruction*: Given the following dictionary, convert it into a DataFrame, calculate the average score per student, and add it as a new column."
      ],
      "metadata": {
        "id": "YuFv3sE6ET9d"
      }
    },
    {
      "cell_type": "code",
      "source": [
        "import pandas as pd\n",
        "data = {'Student': ['Alice', 'Bob', 'Charlie', 'David'],\n",
        "        'Math': [80, 75, 90, 85],\n",
        "        'Science': [92, 88, 78, 95],\n",
        "        'English': [76, 82, 85, 90]}\n",
        "df = pd.DataFrame(data)\n",
        "df['Average'] = df[['Math', 'Science', 'English']].mean(axis=1)\n",
        "print(df)"
      ],
      "metadata": {
        "id": "horbXH8iETuH",
        "colab": {
          "base_uri": "https://localhost:8080/"
        },
        "outputId": "68047e64-6dc0-4bd5-961c-c7bf59c86e23"
      },
      "execution_count": null,
      "outputs": [
        {
          "output_type": "stream",
          "name": "stdout",
          "text": [
            "   Student  Math  Science  English    Average\n",
            "0    Alice    80       92       76  82.666667\n",
            "1      Bob    75       88       82  81.666667\n",
            "2  Charlie    90       78       85  84.333333\n",
            "3    David    85       95       90  90.000000\n",
            "   Student  Math  Science  English    Average\n",
            "0    Alice    80       92       76  82.666667\n",
            "1      Bob    75       88       82  81.666667\n",
            "2  Charlie    90       78       85  84.333333\n",
            "3    David    85       95       90  90.000000\n"
          ]
        }
      ]
    },
    {
      "cell_type": "markdown",
      "source": [
        "## Section 4: Visualization & Logic"
      ],
      "metadata": {
        "id": "GNO0DPi3EpgF"
      }
    },
    {
      "cell_type": "markdown",
      "source": [
        "### **Task 6**: Simple Data Visualization\n",
        "\n",
        "*Instruction*: Use matplotlib to create a bar chart showing the average score per subject from the DataFrame in the previous task."
      ],
      "metadata": {
        "id": "W74DNGaJEtdj"
      }
    },
    {
      "cell_type": "code",
      "source": [
        "import matplotlib.pyplot as plt\n",
        "import pandas as pd\n",
        "\n",
        "data = {'Student': ['Alice', 'Bob', 'Charlie', 'David'],\n",
        "        'Math': [80, 75, 90, 85],\n",
        "        'Science': [92, 88, 78, 95],\n",
        "        'English': [76, 82, 85, 90]}\n",
        "df = pd.DataFrame(data)\n",
        "df['Average'] = df[['Math', 'Science', 'English']].mean(axis=1)\n",
        "\n",
        "# Calculate average score per subject\n",
        "average_scores = df[['Math', 'Science', 'English']].mean()\n",
        "\n",
        "# Create the bar chart\n",
        "plt.bar(average_scores.index, average_scores.values)\n",
        "plt.title('Average Score per Subject')\n",
        "plt.xlabel('Subject')\n",
        "plt.ylabel('Average Score')\n",
        "plt.show()\n"
      ],
      "metadata": {
        "id": "aM8iWEAXEOmE",
        "colab": {
          "base_uri": "https://localhost:8080/",
          "height": 472
        },
        "outputId": "914cf47c-e87b-42b5-bafa-78ec5d8b6d3b"
      },
      "execution_count": null,
      "outputs": [
        {
          "output_type": "display_data",
          "data": {
            "text/plain": [
              "<Figure size 640x480 with 1 Axes>"
            ],
            "image/png": "[encoded data removed]"
          },
          "metadata": {}
        }
      ]
    },
    {
      "cell_type": "markdown",
      "source": [
        "## Section 5: Mini-Project Challenge"
      ],
      "metadata": {
        "id": "yFxPFagsE9mS"
      }
    },
    {
      "cell_type": "markdown",
      "source": [
        "### **Task 7**: Build a Mini Calculator with Exception Handling\n",
        "\n",
        "*Instruction*: Write a function that takes two numbers and an operator as input (+, -, *, /). Return the result, and handle divide-by-zero and invalid operator cases with appropriate error messages."
      ],
      "metadata": {
        "id": "IZwIOzHXFD1a"
      }
    },
    {
      "cell_type": "code",
      "source": [
        "def calculator(num1, num2, operator):\n",
        "  \"\"\"Performs a calculation based on the given operator.\n",
        "\n",
        "  Args:\n",
        "    num1: The first number.\n",
        "    num2: The second number.\n",
        "    operator: The operator to use (+, -, *, /).\n",
        "\n",
        "  Returns:\n",
        "    The result of the calculation, or an error message if an error occurs.\n",
        "  \"\"\"\n",
        "  try:\n",
        "    if operator == '+':\n",
        "      return num1 + num2\n",
        "    elif operator == '-':\n",
        "      return num1 - num2\n",
        "    elif operator == '*':\n",
        "      return num1 * num2\n",
        "    elif operator == '/':\n",
        "      if num2 == 0:\n",
        "        raise ZeroDivisionError(\"Cannot divide by zero.\")\n",
        "      else:\n",
        "        return num1 / num2\n",
        "    else:\n",
        "      raise ValueError(\"Invalid operator. Please use +, -, *, or /.\")\n",
        "  except ValueError as e:\n",
        "    return str(e)  # Return the error message as a string\n",
        "  except ZeroDivisionError as e:\n",
        "    return str(e)  # Return the error message as a string\n",
        "\n",
        "# Example usage\n",
        "result = calculator(10, 5, '+')\n",
        "print(result)  # Output: 15\n",
        "\n",
        "result = calculator(10, 0, '/')\n",
        "print(result)  # Output: Cannot divide by zero.\n",
        "\n",
        "result = calculator(10, 5, '$')\n",
        "print(result)  # Output: Invalid operator. Please use +, -, *, or /."
      ],
      "metadata": {
        "id": "VpUFTR1JFDWk",
        "colab": {
          "base_uri": "https://localhost:8080/"
        },
        "outputId": "366d8efa-df98-417f-af4f-11367deda898"
      },
      "execution_count": null,
      "outputs": [
        {
          "output_type": "stream",
          "name": "stdout",
          "text": [
            "15\n",
            "Cannot divide by zero.\n",
            "Invalid operator. Please use +, -, *, or /.\n"
          ]
        }
      ]
    }
  ]
}